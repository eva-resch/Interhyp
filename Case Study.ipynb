{
 "cells": [
  {
   "cell_type": "code",
   "execution_count": 57,
   "id": "4d2765a6",
   "metadata": {},
   "outputs": [],
   "source": [
    "import pandas as pd\n",
    "from sklearn.model_selection import train_test_split\n",
    "from sklearn.ensemble import RandomForestClassifier\n",
    "from sklearn.metrics import classification_report, confusion_matrix\n",
    "import matplotlib.pyplot as plt\n",
    "import seaborn as sns"
   ]
  },
  {
   "cell_type": "code",
   "execution_count": 58,
   "id": "1cb38c99",
   "metadata": {},
   "outputs": [
    {
     "data": {
      "application/vnd.microsoft.datawrangler.viewer.v0+json": {
       "columns": [
        {
         "name": "index",
         "rawType": "int64",
         "type": "integer"
        },
        {
         "name": "app_id",
         "rawType": "int64",
         "type": "integer"
        },
        {
         "name": "NPS",
         "rawType": "object",
         "type": "string"
        },
        {
         "name": "response_content",
         "rawType": "int64",
         "type": "integer"
        },
        {
         "name": "response_unhappy",
         "rawType": "int64",
         "type": "integer"
        },
        {
         "name": "response_friendly",
         "rawType": "int64",
         "type": "integer"
        },
        {
         "name": "APL_SEX",
         "rawType": "object",
         "type": "string"
        },
        {
         "name": "APL_BIRTHYEAR",
         "rawType": "int64",
         "type": "integer"
        },
        {
         "name": "APL_FREEZE_AVAILABLE_INCOME",
         "rawType": "int64",
         "type": "integer"
        }
       ],
       "ref": "faae267f-f6c9-4e4a-9cde-e391da170f1b",
       "rows": [
        [
         "0",
         "18683842",
         "unzufrieden",
         "85",
         "20",
         "85",
         "M",
         "1969",
         "3408"
        ],
        [
         "1",
         "21406925",
         "zufrieden",
         "85",
         "1",
         "85",
         "M",
         "1985",
         "2519"
        ],
        [
         "2",
         "21406925",
         "zufrieden",
         "85",
         "1",
         "85",
         "F",
         "1988",
         "1400"
        ],
        [
         "3",
         "100524024",
         "zufrieden",
         "75",
         "20",
         "85",
         "M",
         "1983",
         "3500"
        ],
        [
         "4",
         "19866647",
         "zufrieden",
         "85",
         "0",
         "85",
         "M",
         "1987",
         "4264"
        ],
        [
         "5",
         "101311723",
         "zufrieden",
         "85",
         "75",
         "75",
         "F",
         "1983",
         "4448"
        ],
        [
         "6",
         "100367371",
         "zufrieden",
         "85",
         "0",
         "85",
         "F",
         "1977",
         "0"
        ]
       ],
       "shape": {
        "columns": 8,
        "rows": 7
       }
      },
      "text/html": [
       "<div>\n",
       "<style scoped>\n",
       "    .dataframe tbody tr th:only-of-type {\n",
       "        vertical-align: middle;\n",
       "    }\n",
       "\n",
       "    .dataframe tbody tr th {\n",
       "        vertical-align: top;\n",
       "    }\n",
       "\n",
       "    .dataframe thead th {\n",
       "        text-align: right;\n",
       "    }\n",
       "</style>\n",
       "<table border=\"1\" class=\"dataframe\">\n",
       "  <thead>\n",
       "    <tr style=\"text-align: right;\">\n",
       "      <th></th>\n",
       "      <th>app_id</th>\n",
       "      <th>NPS</th>\n",
       "      <th>response_content</th>\n",
       "      <th>response_unhappy</th>\n",
       "      <th>response_friendly</th>\n",
       "      <th>APL_SEX</th>\n",
       "      <th>APL_BIRTHYEAR</th>\n",
       "      <th>APL_FREEZE_AVAILABLE_INCOME</th>\n",
       "    </tr>\n",
       "  </thead>\n",
       "  <tbody>\n",
       "    <tr>\n",
       "      <th>0</th>\n",
       "      <td>18683842</td>\n",
       "      <td>unzufrieden</td>\n",
       "      <td>85</td>\n",
       "      <td>20</td>\n",
       "      <td>85</td>\n",
       "      <td>M</td>\n",
       "      <td>1969</td>\n",
       "      <td>3408</td>\n",
       "    </tr>\n",
       "    <tr>\n",
       "      <th>1</th>\n",
       "      <td>21406925</td>\n",
       "      <td>zufrieden</td>\n",
       "      <td>85</td>\n",
       "      <td>1</td>\n",
       "      <td>85</td>\n",
       "      <td>M</td>\n",
       "      <td>1985</td>\n",
       "      <td>2519</td>\n",
       "    </tr>\n",
       "    <tr>\n",
       "      <th>2</th>\n",
       "      <td>21406925</td>\n",
       "      <td>zufrieden</td>\n",
       "      <td>85</td>\n",
       "      <td>1</td>\n",
       "      <td>85</td>\n",
       "      <td>F</td>\n",
       "      <td>1988</td>\n",
       "      <td>1400</td>\n",
       "    </tr>\n",
       "    <tr>\n",
       "      <th>3</th>\n",
       "      <td>100524024</td>\n",
       "      <td>zufrieden</td>\n",
       "      <td>75</td>\n",
       "      <td>20</td>\n",
       "      <td>85</td>\n",
       "      <td>M</td>\n",
       "      <td>1983</td>\n",
       "      <td>3500</td>\n",
       "    </tr>\n",
       "    <tr>\n",
       "      <th>4</th>\n",
       "      <td>19866647</td>\n",
       "      <td>zufrieden</td>\n",
       "      <td>85</td>\n",
       "      <td>0</td>\n",
       "      <td>85</td>\n",
       "      <td>M</td>\n",
       "      <td>1987</td>\n",
       "      <td>4264</td>\n",
       "    </tr>\n",
       "    <tr>\n",
       "      <th>5</th>\n",
       "      <td>101311723</td>\n",
       "      <td>zufrieden</td>\n",
       "      <td>85</td>\n",
       "      <td>75</td>\n",
       "      <td>75</td>\n",
       "      <td>F</td>\n",
       "      <td>1983</td>\n",
       "      <td>4448</td>\n",
       "    </tr>\n",
       "    <tr>\n",
       "      <th>6</th>\n",
       "      <td>100367371</td>\n",
       "      <td>zufrieden</td>\n",
       "      <td>85</td>\n",
       "      <td>0</td>\n",
       "      <td>85</td>\n",
       "      <td>F</td>\n",
       "      <td>1977</td>\n",
       "      <td>0</td>\n",
       "    </tr>\n",
       "  </tbody>\n",
       "</table>\n",
       "</div>"
      ],
      "text/plain": [
       "      app_id          NPS  response_content  response_unhappy  \\\n",
       "0   18683842  unzufrieden                85                20   \n",
       "1   21406925    zufrieden                85                 1   \n",
       "2   21406925    zufrieden                85                 1   \n",
       "3  100524024    zufrieden                75                20   \n",
       "4   19866647    zufrieden                85                 0   \n",
       "5  101311723    zufrieden                85                75   \n",
       "6  100367371    zufrieden                85                 0   \n",
       "\n",
       "   response_friendly APL_SEX  APL_BIRTHYEAR  APL_FREEZE_AVAILABLE_INCOME  \n",
       "0                 85       M           1969                         3408  \n",
       "1                 85       M           1985                         2519  \n",
       "2                 85       F           1988                         1400  \n",
       "3                 85       M           1983                         3500  \n",
       "4                 85       M           1987                         4264  \n",
       "5                 75       F           1983                         4448  \n",
       "6                 85       F           1977                            0  "
      ]
     },
     "execution_count": 58,
     "metadata": {},
     "output_type": "execute_result"
    }
   ],
   "source": [
    "df = pd.read_csv(\"bewerber_aufgabe_interhyp.csv\", index_col=0)\n",
    "df[\"NPS\"] = df[\"NPS\"].fillna(0).map({-100: \"unzufrieden\", 0: \"neutral\", 100: \"zufrieden\"})\n",
    "df[\"APL_FREEZE_AVAILABLE_INCOME\"] = df[\"APL_FREEZE_AVAILABLE_INCOME\"].fillna(df[\"APL_FREEZE_AVAILABLE_INCOME\"].mean()).astype(int)\n",
    "df[\"APL_BIRTHYEAR\"] = pd.to_datetime(df[\"APL_BIRTHYEAR\"]).dt.year\n",
    "df[\"APL_BIRTHYEAR\"] = df[\"APL_BIRTHYEAR\"].fillna(df[\"APL_BIRTHYEAR\"].mean()).astype(int)\n",
    "df.head(7)"
   ]
  },
  {
   "cell_type": "code",
   "execution_count": 59,
   "id": "e423846d",
   "metadata": {},
   "outputs": [
    {
     "name": "stdout",
     "output_type": "stream",
     "text": [
      "number of rows:  1831\n",
      "number of unique applicants:  1106\n",
      "number of unique applicant IDs:  725\n",
      "number of unique applicants, acc. to all attributes:  0\n"
     ]
    }
   ],
   "source": [
    "print(\"number of rows: \", df.shape[0])\n",
    "print(\"number of unique applicants: \", df.app_id.nunique())\n",
    "print(\"number of unique applicant IDs: \", df.duplicated(subset=[\"app_id\"]).sum())\n",
    "print(\"number of unique applicants, acc. to all attributes: \", df.duplicated(subset=[\"app_id\", \"APL_SEX\", \"APL_BIRTHYEAR\", \"APL_FREEZE_AVAILABLE_INCOME\"]).sum())"
   ]
  },
  {
   "cell_type": "code",
   "execution_count": 60,
   "id": "7da9fc8d",
   "metadata": {},
   "outputs": [
    {
     "data": {
      "application/vnd.microsoft.datawrangler.viewer.v0+json": {
       "columns": [
        {
         "name": "index",
         "rawType": "object",
         "type": "string"
        },
        {
         "name": "0",
         "rawType": "int64",
         "type": "integer"
        }
       ],
       "ref": "0928ad69-931c-42f6-88a0-a32830237616",
       "rows": [
        [
         "app_id",
         "0"
        ],
        [
         "NPS",
         "2"
        ],
        [
         "response_content",
         "0"
        ],
        [
         "response_unhappy",
         "0"
        ],
        [
         "response_friendly",
         "0"
        ],
        [
         "APL_SEX",
         "13"
        ],
        [
         "APL_BIRTHYEAR",
         "0"
        ],
        [
         "APL_FREEZE_AVAILABLE_INCOME",
         "0"
        ]
       ],
       "shape": {
        "columns": 1,
        "rows": 8
       }
      },
      "text/plain": [
       "app_id                          0\n",
       "NPS                             2\n",
       "response_content                0\n",
       "response_unhappy                0\n",
       "response_friendly               0\n",
       "APL_SEX                        13\n",
       "APL_BIRTHYEAR                   0\n",
       "APL_FREEZE_AVAILABLE_INCOME     0\n",
       "dtype: int64"
      ]
     },
     "execution_count": 60,
     "metadata": {},
     "output_type": "execute_result"
    }
   ],
   "source": [
    "df.isnull().sum()"
   ]
  },
  {
   "cell_type": "code",
   "execution_count": 70,
   "id": "1088c691",
   "metadata": {},
   "outputs": [
    {
     "name": "stdout",
     "output_type": "stream",
     "text": [
      "              precision    recall  f1-score   support\n",
      "\n",
      "     neutral       0.00      0.00      0.00        39\n",
      " unzufrieden       0.00      0.00      0.00        24\n",
      "   zufrieden       0.82      0.96      0.89       301\n",
      "\n",
      "    accuracy                           0.80       364\n",
      "   macro avg       0.27      0.32      0.30       364\n",
      "weighted avg       0.68      0.80      0.73       364\n",
      "\n"
     ]
    }
   ],
   "source": [
    "df = df.dropna(subset=[\"NPS\", \"APL_SEX\"])\n",
    "\n",
    "dummy_sex = pd.get_dummies(df[\"APL_SEX\"], prefix=\"SEX\", drop_first=True)\n",
    "X = pd.concat([df.drop(columns=[\"NPS\", \"app_id\", \"APL_SEX\"]), dummy_sex], axis=1)\n",
    "y = df[\"NPS\"]\n",
    "\n",
    "X_train, X_test, y_train, y_test = train_test_split(X, y, test_size=0.2, random_state=1)\n",
    "rf = RandomForestClassifier(n_estimators=100, random_state=1, class_weight=\"balanced\")\n",
    "rf.fit(X_train, y_train)\n",
    "y_pred = rf.predict(X_test)\n",
    "\n",
    "print(classification_report(y_test, y_pred))"
   ]
  },
  {
   "cell_type": "code",
   "execution_count": 73,
   "id": "bd4e7903",
   "metadata": {},
   "outputs": [
    {
     "data": {
      "image/png": "[encoded data removed]",
      "text/plain": [
       "<Figure size 640x480 with 2 Axes>"
      ]
     },
     "metadata": {},
     "output_type": "display_data"
    }
   ],
   "source": [
    "cm = confusion_matrix(y_test, y_pred, labels=rf.classes_)\n",
    "sns.heatmap(cm, annot=True, fmt=\"d\", cmap=\"Blues\", xticklabels=rf.classes_, yticklabels=rf.classes_)\n",
    "plt.title(\"Confusion Matrix\")\n",
    "plt.xlabel(\"Vorhersage\")\n",
    "plt.ylabel(\"Wahrheit\")\n",
    "plt.savefig(\"confusion.png\", dpi=300, bbox_inches=\"tight\")\n",
    "plt.show()"
   ]
  },
  {
   "cell_type": "code",
   "execution_count": 74,
   "id": "7a9bc25e",
   "metadata": {},
   "outputs": [
    {
     "data": {
      "image/png": "[encoded data removed]",
      "text/plain": [
       "<Figure size 640x480 with 1 Axes>"
      ]
     },
     "metadata": {},
     "output_type": "display_data"
    }
   ],
   "source": [
    "importances = pd.Series(rf.feature_importances_, index=X.columns)\n",
    "importances.nlargest(10).plot(kind=\"barh\")\n",
    "plt.title(\"Wichtigste Features (Random Forest)\")\n",
    "plt.xlabel(\"Feature Importance\")\n",
    "plt.tight_layout()\n",
    "plt.savefig(\"features.png\", dpi=300, bbox_inches=\"tight\")\n",
    "plt.show()"
   ]
  },
  {
   "cell_type": "code",
   "execution_count": null,
   "id": "8899485c",
   "metadata": {},
   "outputs": [],
   "source": []
  }
 ],
 "metadata": {
  "kernelspec": {
   "display_name": ".venv",
   "language": "python",
   "name": "python3"
  },
  "language_info": {
   "codemirror_mode": {
    "name": "ipython",
    "version": 3
   },
   "file_extension": ".py",
   "mimetype": "text/x-python",
   "name": "python",
   "nbconvert_exporter": "python",
   "pygments_lexer": "ipython3",
   "version": "3.12.3"
  }
 },
 "nbformat": 4,
 "nbformat_minor": 5
}
